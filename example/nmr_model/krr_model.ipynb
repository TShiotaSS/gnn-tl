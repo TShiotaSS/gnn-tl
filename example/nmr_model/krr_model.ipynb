{
 "cells": [
  {
   "cell_type": "markdown",
   "id": "d9600c49-dea6-4fa6-843b-6a7d0b41c759",
   "metadata": {},
   "source": [
    "# Building KRR NMR prediction model"
   ]
  },
  {
   "cell_type": "markdown",
   "id": "163f4e62-9d8e-4521-b250-086145eae663",
   "metadata": {},
   "source": [
    "In this tutorial, we build the kernel ridge regression model which predicts nmr values by using m3gnet descriptor. <br>\n",
    "Before building model, please download dataset from figshare."
   ]
  },
  {
   "cell_type": "code",
   "execution_count": 1,
   "id": "94513074-7c8d-4ae6-936f-a37244793fa2",
   "metadata": {},
   "outputs": [],
   "source": [
    "from sklearn.gaussian_process import GaussianProcessRegressor\n",
    "from sklearn.gaussian_process.kernels import WhiteKernel\n",
    "from sklearn.gaussian_process.kernels import RBF\n",
    "from sklearn.gaussian_process.kernels import DotProduct\n",
    "\n",
    "from sklearn.model_selection import RandomizedSearchCV\n",
    "from sklearn.utils.fixes import loguniform\n",
    "from sklearn.preprocessing import normalize\n",
    "\n",
    "import time\n",
    "from sklearn.gaussian_process.kernels import ExpSineSquared\n",
    "from sklearn.kernel_ridge import KernelRidge\n",
    "\n",
    "import pandas as pd\n",
    "import sys\n",
    "import numpy as np\n",
    "import optuna\n",
    "from scipy import stats"
   ]
  },
  {
   "cell_type": "markdown",
   "id": "f4c4730a-f85e-4cef-889a-32ba46ee1e69",
   "metadata": {},
   "source": [
    "We build $^{13}C$ nmr prediction model. We use the dataset \"m3gnet_train_C_1000.csv\", which contains 1000 C environments."
   ]
  },
  {
   "cell_type": "markdown",
   "id": "1c90ddea-6665-493f-9dd0-84e8e1e1d8c1",
   "metadata": {},
   "source": [
    "## Loading dataset"
   ]
  },
  {
   "cell_type": "code",
   "execution_count": 30,
   "id": "5f39c6a7-bc2f-4d2b-8626-e0c9e6d8449c",
   "metadata": {},
   "outputs": [],
   "source": [
    "element = \"C\"\n",
    "atomic_number = 6\n",
    "df_train =  pd.read_csv(f'../../data/NMR/train_dataset/{element}/m3gnet_train_{element}_1000.csv') \n",
    "df_test =  pd.read_csv(f'../../data/NMR/test_dataset/{element}/m3gnet_test_{element}.csv') "
   ]
  },
  {
   "cell_type": "markdown",
   "id": "639cd46d-c6af-401d-8e19-d46c6fe0e039",
   "metadata": {},
   "source": [
    "## Splitting dataframe into X and y"
   ]
  },
  {
   "cell_type": "code",
   "execution_count": 1,
   "id": "d65f5ef5-b96e-45a3-af03-66e9dd0f22f7",
   "metadata": {},
   "outputs": [
    {
     "ename": "NameError",
     "evalue": "name 'df_train' is not defined",
     "output_type": "error",
     "traceback": [
      "\u001b[0;31m---------------------------------------------------------------------------\u001b[0m",
      "\u001b[0;31mNameError\u001b[0m                                 Traceback (most recent call last)",
      "Cell \u001b[0;32mIn[1], line 1\u001b[0m\n\u001b[0;32m----> 1\u001b[0m X_train \u001b[38;5;241m=\u001b[39m \u001b[43mdf_train\u001b[49m\u001b[38;5;241m.\u001b[39mloc[:, \u001b[38;5;124m\"\u001b[39m\u001b[38;5;124matom_feature_vector_1\u001b[39m\u001b[38;5;124m\"\u001b[39m:\u001b[38;5;124m\"\u001b[39m\u001b[38;5;124matom_feature_vector_64\u001b[39m\u001b[38;5;124m\"\u001b[39m]\n\u001b[1;32m      2\u001b[0m X_test \u001b[38;5;241m=\u001b[39m df_test\u001b[38;5;241m.\u001b[39mloc[:, \u001b[38;5;124m\"\u001b[39m\u001b[38;5;124matom_feature_vector_1\u001b[39m\u001b[38;5;124m\"\u001b[39m:\u001b[38;5;124m\"\u001b[39m\u001b[38;5;124matom_feature_vector_64\u001b[39m\u001b[38;5;124m\"\u001b[39m]\n\u001b[1;32m      3\u001b[0m y_train \u001b[38;5;241m=\u001b[39m df_train[[\u001b[38;5;124m\"\u001b[39m\u001b[38;5;124mnmr_shift\u001b[39m\u001b[38;5;124m\"\u001b[39m]]\n",
      "\u001b[0;31mNameError\u001b[0m: name 'df_train' is not defined"
     ]
    }
   ],
   "source": [
    "X_train = df_train.loc[:, \"atom_feature_vector_1\":\"atom_feature_vector_64\"]\n",
    "X_test = df_test.loc[:, \"atom_feature_vector_1\":\"atom_feature_vector_64\"]\n",
    "y_train = df_train[[\"nmr_shift\"]]\n",
    "y_test = df_test[[\"nmr_shift\"]]"
   ]
  },
  {
   "cell_type": "markdown",
   "id": "760a5aa3-654d-4258-bf5b-1866bd50d3df",
   "metadata": {},
   "source": [
    "## Building kernel ridge model and fitting"
   ]
  },
  {
   "cell_type": "code",
   "execution_count": 32,
   "id": "1ecd7144-e67a-4b83-b2cb-2123e2852ca6",
   "metadata": {},
   "outputs": [],
   "source": [
    "# init params values\n",
    "alpha = 0.005140910336290036\n",
    "gamma = 0.366928223143962 "
   ]
  },
  {
   "cell_type": "code",
   "execution_count": 33,
   "id": "b3cabf40-a975-4542-a21c-64cdc973e2fc",
   "metadata": {},
   "outputs": [
    {
     "data": {
      "text/html": [
       "<style>#sk-container-id-2 {color: black;background-color: white;}#sk-container-id-2 pre{padding: 0;}#sk-container-id-2 div.sk-toggleable {background-color: white;}#sk-container-id-2 label.sk-toggleable__label {cursor: pointer;display: block;width: 100%;margin-bottom: 0;padding: 0.3em;box-sizing: border-box;text-align: center;}#sk-container-id-2 label.sk-toggleable__label-arrow:before {content: \"▸\";float: left;margin-right: 0.25em;color: #696969;}#sk-container-id-2 label.sk-toggleable__label-arrow:hover:before {color: black;}#sk-container-id-2 div.sk-estimator:hover label.sk-toggleable__label-arrow:before {color: black;}#sk-container-id-2 div.sk-toggleable__content {max-height: 0;max-width: 0;overflow: hidden;text-align: left;background-color: #f0f8ff;}#sk-container-id-2 div.sk-toggleable__content pre {margin: 0.2em;color: black;border-radius: 0.25em;background-color: #f0f8ff;}#sk-container-id-2 input.sk-toggleable__control:checked~div.sk-toggleable__content {max-height: 200px;max-width: 100%;overflow: auto;}#sk-container-id-2 input.sk-toggleable__control:checked~label.sk-toggleable__label-arrow:before {content: \"▾\";}#sk-container-id-2 div.sk-estimator input.sk-toggleable__control:checked~label.sk-toggleable__label {background-color: #d4ebff;}#sk-container-id-2 div.sk-label input.sk-toggleable__control:checked~label.sk-toggleable__label {background-color: #d4ebff;}#sk-container-id-2 input.sk-hidden--visually {border: 0;clip: rect(1px 1px 1px 1px);clip: rect(1px, 1px, 1px, 1px);height: 1px;margin: -1px;overflow: hidden;padding: 0;position: absolute;width: 1px;}#sk-container-id-2 div.sk-estimator {font-family: monospace;background-color: #f0f8ff;border: 1px dotted black;border-radius: 0.25em;box-sizing: border-box;margin-bottom: 0.5em;}#sk-container-id-2 div.sk-estimator:hover {background-color: #d4ebff;}#sk-container-id-2 div.sk-parallel-item::after {content: \"\";width: 100%;border-bottom: 1px solid gray;flex-grow: 1;}#sk-container-id-2 div.sk-label:hover label.sk-toggleable__label {background-color: #d4ebff;}#sk-container-id-2 div.sk-serial::before {content: \"\";position: absolute;border-left: 1px solid gray;box-sizing: border-box;top: 0;bottom: 0;left: 50%;z-index: 0;}#sk-container-id-2 div.sk-serial {display: flex;flex-direction: column;align-items: center;background-color: white;padding-right: 0.2em;padding-left: 0.2em;position: relative;}#sk-container-id-2 div.sk-item {position: relative;z-index: 1;}#sk-container-id-2 div.sk-parallel {display: flex;align-items: stretch;justify-content: center;background-color: white;position: relative;}#sk-container-id-2 div.sk-item::before, #sk-container-id-2 div.sk-parallel-item::before {content: \"\";position: absolute;border-left: 1px solid gray;box-sizing: border-box;top: 0;bottom: 0;left: 50%;z-index: -1;}#sk-container-id-2 div.sk-parallel-item {display: flex;flex-direction: column;z-index: 1;position: relative;background-color: white;}#sk-container-id-2 div.sk-parallel-item:first-child::after {align-self: flex-end;width: 50%;}#sk-container-id-2 div.sk-parallel-item:last-child::after {align-self: flex-start;width: 50%;}#sk-container-id-2 div.sk-parallel-item:only-child::after {width: 0;}#sk-container-id-2 div.sk-dashed-wrapped {border: 1px dashed gray;margin: 0 0.4em 0.5em 0.4em;box-sizing: border-box;padding-bottom: 0.4em;background-color: white;}#sk-container-id-2 div.sk-label label {font-family: monospace;font-weight: bold;display: inline-block;line-height: 1.2em;}#sk-container-id-2 div.sk-label-container {text-align: center;}#sk-container-id-2 div.sk-container {/* jupyter's `normalize.less` sets `[hidden] { display: none; }` but bootstrap.min.css set `[hidden] { display: none !important; }` so we also need the `!important` here to be able to override the default hidden behavior on the sphinx rendered scikit-learn.org. See: https://github.com/scikit-learn/scikit-learn/issues/21755 */display: inline-block !important;position: relative;}#sk-container-id-2 div.sk-text-repr-fallback {display: none;}</style><div id=\"sk-container-id-2\" class=\"sk-top-container\"><div class=\"sk-text-repr-fallback\"><pre>KernelRidge(alpha=0.005140910336290036, gamma=0.366928223143962,\n",
       "            kernel=&#x27;laplacian&#x27;)</pre><b>In a Jupyter environment, please rerun this cell to show the HTML representation or trust the notebook. <br />On GitHub, the HTML representation is unable to render, please try loading this page with nbviewer.org.</b></div><div class=\"sk-container\" hidden><div class=\"sk-item\"><div class=\"sk-estimator sk-toggleable\"><input class=\"sk-toggleable__control sk-hidden--visually\" id=\"sk-estimator-id-2\" type=\"checkbox\" checked><label for=\"sk-estimator-id-2\" class=\"sk-toggleable__label sk-toggleable__label-arrow\">KernelRidge</label><div class=\"sk-toggleable__content\"><pre>KernelRidge(alpha=0.005140910336290036, gamma=0.366928223143962,\n",
       "            kernel=&#x27;laplacian&#x27;)</pre></div></div></div></div></div>"
      ],
      "text/plain": [
       "KernelRidge(alpha=0.005140910336290036, gamma=0.366928223143962,\n",
       "            kernel='laplacian')"
      ]
     },
     "execution_count": 33,
     "metadata": {},
     "output_type": "execute_result"
    }
   ],
   "source": [
    "# we use laplacian kernel\n",
    "kernel_ridge = KernelRidge(kernel=\"laplacian\", gamma=gamma, alpha=alpha)\n",
    "kernel_ridge.fit(X_train, y_train)"
   ]
  },
  {
   "cell_type": "markdown",
   "id": "a98fa987-8280-474a-b5dc-426237189d82",
   "metadata": {},
   "source": [
    "## Hyper parameter tuning"
   ]
  },
  {
   "cell_type": "code",
   "execution_count": 34,
   "id": "cae01a26-06d2-44f7-b3e5-e5350f5b5f44",
   "metadata": {},
   "outputs": [],
   "source": [
    "alpha_low = 5e-3\n",
    "alpha_high = 5e-2\n",
    "gamma_low = 1e-1\n",
    "gamma_high = 1e0\n",
    "n_iteration = 30\n",
    "random_state = 0\n",
    "cv = 5"
   ]
  },
  {
   "cell_type": "code",
   "execution_count": 35,
   "id": "46067792-caa5-414c-9a4d-2a544952254b",
   "metadata": {},
   "outputs": [],
   "source": [
    "param_distributions = {\n",
    "    \"alpha\": optuna.distributions.FloatDistribution(alpha_low, alpha_high),\n",
    "    \"gamma\": optuna.distributions.FloatDistribution(gamma_low, gamma_high),\n",
    "}"
   ]
  },
  {
   "cell_type": "code",
   "execution_count": 36,
   "id": "07d4452a-46c9-4a46-9e57-9ec181a83b2c",
   "metadata": {},
   "outputs": [
    {
     "name": "stderr",
     "output_type": "stream",
     "text": [
      "/tmp/ipykernel_27/1593501729.py:1: ExperimentalWarning: OptunaSearchCV is experimental (supported from v0.17.0). The interface can change in the future.\n",
      "  optuna_search = optuna.integration.OptunaSearchCV(\n"
     ]
    }
   ],
   "source": [
    "optuna_search = optuna.integration.OptunaSearchCV(\n",
    "    kernel_ridge, \n",
    "    param_distributions, \n",
    "    cv=cv, \n",
    "    n_jobs=1, \n",
    "    n_trials=n_iteration, \n",
    "    random_state=random_state, \n",
    "    scoring=None)"
   ]
  },
  {
   "cell_type": "code",
   "execution_count": 38,
   "id": "570a0fbd-09db-4cad-a7d1-da7efb52fda5",
   "metadata": {},
   "outputs": [
    {
     "name": "stderr",
     "output_type": "stream",
     "text": [
      "[I 2024-03-27 05:28:18,396] A new study created in memory with name: no-name-45a6c942-5bd7-4cd4-b0c3-c1a3c11af7e3\n",
      "[I 2024-03-27 05:28:19,130] Trial 0 finished with value: 0.8968670910536346 and parameters: {'alpha': 0.02687212953596977, 'gamma': 0.7171410857599202}. Best is trial 0 with value: 0.8968670910536346.\n",
      "[I 2024-03-27 05:28:19,801] Trial 1 finished with value: 0.9626408079527161 and parameters: {'alpha': 0.04935092227977195, 'gamma': 0.2760367691460003}. Best is trial 1 with value: 0.9626408079527161.\n",
      "[I 2024-03-27 05:28:20,633] Trial 2 finished with value: 0.7821823723569024 and parameters: {'alpha': 0.031253525306763084, 'gamma': 0.9825239593893744}. Best is trial 1 with value: 0.9626408079527161.\n",
      "[I 2024-03-27 05:28:21,278] Trial 3 finished with value: 0.8937660386289838 and parameters: {'alpha': 0.013121613382547876, 'gamma': 0.7313217715739823}. Best is trial 1 with value: 0.9626408079527161.\n",
      "[I 2024-03-27 05:28:21,894] Trial 4 finished with value: 0.8616764663780131 and parameters: {'alpha': 0.04308392955349007, 'gamma': 0.8170383657279878}. Best is trial 1 with value: 0.9626408079527161.\n",
      "[I 2024-03-27 05:28:22,578] Trial 5 finished with value: 0.9307007840587673 and parameters: {'alpha': 0.04363828061607218, 'gamma': 0.5657519456923042}. Best is trial 1 with value: 0.9626408079527161.\n",
      "[I 2024-03-27 05:28:23,312] Trial 6 finished with value: 0.957224395237715 and parameters: {'alpha': 0.0068822319710409256, 'gamma': 0.366928223143962}. Best is trial 1 with value: 0.9626408079527161.\n",
      "[I 2024-03-27 05:28:24,148] Trial 7 finished with value: 0.9676131314792246 and parameters: {'alpha': 0.011392974543828685, 'gamma': 0.1704940423569844}. Best is trial 7 with value: 0.9676131314792246.\n",
      "[I 2024-03-27 05:28:24,910] Trial 8 finished with value: 0.9023003010760877 and parameters: {'alpha': 0.044020616829357546, 'gamma': 0.6933194199582013}. Best is trial 7 with value: 0.9676131314792246.\n",
      "[I 2024-03-27 05:28:25,634] Trial 9 finished with value: 0.7918008190124075 and parameters: {'alpha': 0.021076464275834532, 'gamma': 0.9689322910731502}. Best is trial 7 with value: 0.9676131314792246.\n",
      "[I 2024-03-27 05:28:26,286] Trial 10 finished with value: 0.9683314708409275 and parameters: {'alpha': 0.00503927084278832, 'gamma': 0.13741795481005342}. Best is trial 10 with value: 0.9683314708409275.\n",
      "[I 2024-03-27 05:28:27,050] Trial 11 finished with value: 0.9685372610325823 and parameters: {'alpha': 0.005940449298349223, 'gamma': 0.11453234217397866}. Best is trial 11 with value: 0.9685372610325823.\n",
      "[I 2024-03-27 05:28:27,874] Trial 12 finished with value: 0.9677095503708341 and parameters: {'alpha': 0.005796519883319412, 'gamma': 0.16966191487622234}. Best is trial 11 with value: 0.9685372610325823.\n",
      "[I 2024-03-27 05:28:28,598] Trial 13 finished with value: 0.9685640971518922 and parameters: {'alpha': 0.0053786843126121565, 'gamma': 0.10379398353737113}. Best is trial 13 with value: 0.9685640971518922.\n",
      "[I 2024-03-27 05:28:29,531] Trial 14 finished with value: 0.9582343294540834 and parameters: {'alpha': 0.01625160189401851, 'gamma': 0.3517858799607841}. Best is trial 13 with value: 0.9685640971518922.\n",
      "[I 2024-03-27 05:28:30,178] Trial 15 finished with value: 0.9684712823655627 and parameters: {'alpha': 0.012272105272845633, 'gamma': 0.11589064482947894}. Best is trial 13 with value: 0.9685640971518922.\n",
      "[I 2024-03-27 05:28:30,865] Trial 16 finished with value: 0.9637852395467131 and parameters: {'alpha': 0.01604691319398994, 'gamma': 0.2672888325348003}. Best is trial 13 with value: 0.9685640971518922.\n",
      "[I 2024-03-27 05:28:31,562] Trial 17 finished with value: 0.9488963918673488 and parameters: {'alpha': 0.008599088217403562, 'gamma': 0.4500921303505752}. Best is trial 13 with value: 0.9685640971518922.\n",
      "[I 2024-03-27 05:28:32,338] Trial 18 finished with value: 0.9656852596424447 and parameters: {'alpha': 0.005114075333899128, 'gamma': 0.2311660609260312}. Best is trial 13 with value: 0.9685640971518922.\n",
      "[I 2024-03-27 05:28:33,055] Trial 19 finished with value: 0.9684238958080581 and parameters: {'alpha': 0.01895882782702989, 'gamma': 0.10553775082684502}. Best is trial 13 with value: 0.9685640971518922.\n",
      "[I 2024-03-27 05:28:33,689] Trial 20 finished with value: 0.9659988730389415 and parameters: {'alpha': 0.009829070727243944, 'gamma': 0.22152437534942981}. Best is trial 13 with value: 0.9685640971518922.\n",
      "[I 2024-03-27 05:28:34,560] Trial 21 finished with value: 0.9684959747847343 and parameters: {'alpha': 0.010225177928632482, 'gamma': 0.11549767417797575}. Best is trial 13 with value: 0.9685640971518922.\n",
      "[I 2024-03-27 05:28:35,250] Trial 22 finished with value: 0.9685051351012849 and parameters: {'alpha': 0.009861939469358469, 'gamma': 0.11449600363824311}. Best is trial 13 with value: 0.9685640971518922.\n",
      "[I 2024-03-27 05:28:35,860] Trial 23 finished with value: 0.9664624091276173 and parameters: {'alpha': 0.008910944494267058, 'gamma': 0.20959325521745364}. Best is trial 13 with value: 0.9685640971518922.\n",
      "[I 2024-03-27 05:28:36,469] Trial 24 finished with value: 0.9625972202539378 and parameters: {'alpha': 0.013363628313949844, 'gamma': 0.2894858628902857}. Best is trial 13 with value: 0.9685640971518922.\n",
      "[I 2024-03-27 05:28:37,120] Trial 25 finished with value: 0.9685492009225758 and parameters: {'alpha': 0.00812140398819082, 'gamma': 0.10181866203541476}. Best is trial 13 with value: 0.9685640971518922.\n",
      "[I 2024-03-27 05:28:37,811] Trial 26 finished with value: 0.9670803441936322 and parameters: {'alpha': 0.005179413682535814, 'gamma': 0.19277919496383422}. Best is trial 13 with value: 0.9685640971518922.\n",
      "[I 2024-03-27 05:28:38,599] Trial 27 finished with value: 0.958905278550126 and parameters: {'alpha': 0.015587905840217412, 'gamma': 0.3433682949549653}. Best is trial 13 with value: 0.9685640971518922.\n",
      "[I 2024-03-27 05:28:39,407] Trial 28 finished with value: 0.9674654967842649 and parameters: {'alpha': 0.008059732550005225, 'gamma': 0.17804775755672347}. Best is trial 13 with value: 0.9685640971518922.\n",
      "[I 2024-03-27 05:28:40,243] Trial 29 finished with value: 0.9683169236909773 and parameters: {'alpha': 0.025568693955861775, 'gamma': 0.10329877294315622}. Best is trial 13 with value: 0.9685640971518922.\n"
     ]
    },
    {
     "name": "stdout",
     "output_type": "stream",
     "text": [
      "It takes 21.974790573120117 [s] for hyper parameters tuning\n"
     ]
    }
   ],
   "source": [
    "start_time = time.time()\n",
    "optuna_search.fit(X_train, y_train)\n",
    "print(f\"It takes {time.time() - start_time} [s] for hyper parameters tuning\")"
   ]
  },
  {
   "cell_type": "code",
   "execution_count": 39,
   "id": "fa22760f-f7f8-420c-b241-d288d1bc2a35",
   "metadata": {},
   "outputs": [
    {
     "name": "stdout",
     "output_type": "stream",
     "text": [
      "{'alpha': 0.0053786843126121565, 'gamma': 0.10379398353737113}\n"
     ]
    }
   ],
   "source": [
    "# best params\n",
    "print(optuna_search.best_params_)"
   ]
  },
  {
   "cell_type": "markdown",
   "id": "deaace37-e2bf-4de1-b20a-0e5f15d1aab2",
   "metadata": {},
   "source": [
    "## Predicting nmr values"
   ]
  },
  {
   "cell_type": "code",
   "execution_count": 40,
   "id": "94b3edf4-28d7-4133-8c99-813271625364",
   "metadata": {},
   "outputs": [],
   "source": [
    "from sklearn.metrics import mean_absolute_error  # MAE\n",
    "from sklearn.metrics import mean_squared_error  # MSE\n",
    "predictions_kr_train = optuna_search.predict(X_train)\n",
    "predictions_kr_test = optuna_search.predict(X_test)"
   ]
  },
  {
   "cell_type": "markdown",
   "id": "a31be416-0cfb-43aa-9e3e-e8e9f82e13e4",
   "metadata": {},
   "source": [
    "## Calc. MAE and MSE"
   ]
  },
  {
   "cell_type": "code",
   "execution_count": 41,
   "id": "9fa20a58-7001-4862-9f20-ab49e65ea87f",
   "metadata": {},
   "outputs": [],
   "source": [
    "mae_train = mean_absolute_error(y_train, predictions_kr_train)\n",
    "mae_test = mean_absolute_error(y_test, predictions_kr_test)"
   ]
  },
  {
   "cell_type": "code",
   "execution_count": 45,
   "id": "75525393-6541-4e1e-89ba-2d7b4f66b019",
   "metadata": {},
   "outputs": [
    {
     "name": "stdout",
     "output_type": "stream",
     "text": [
      "MAE(train) : 0.3382271180018615 ppm\n",
      "MAE(test) : 5.8226059686979275 ppm\n"
     ]
    }
   ],
   "source": [
    "print(f\"MAE(train) : {mae_train} ppm\")\n",
    "print(f\"MAE(test) : {mae_test} ppm\")"
   ]
  }
 ],
 "metadata": {
  "kernelspec": {
   "display_name": "Python 3 (ipykernel)",
   "language": "python",
   "name": "python3"
  },
  "language_info": {
   "codemirror_mode": {
    "name": "ipython",
    "version": 3
   },
   "file_extension": ".py",
   "mimetype": "text/x-python",
   "name": "python",
   "nbconvert_exporter": "python",
   "pygments_lexer": "ipython3",
   "version": "3.9.5"
  }
 },
 "nbformat": 4,
 "nbformat_minor": 5
}
