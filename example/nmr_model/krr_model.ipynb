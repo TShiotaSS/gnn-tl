{
 "cells": [
  {
   "cell_type": "markdown",
   "id": "d9600c49-dea6-4fa6-843b-6a7d0b41c759",
   "metadata": {},
   "source": [
    "# Building KRR NMR prediction model"
   ]
  },
  {
   "cell_type": "markdown",
   "id": "163f4e62-9d8e-4521-b250-086145eae663",
   "metadata": {},
   "source": [
    "In this tutorial, we build the kernel ridge regression model which predicts nmr values by using m3gnet descriptor. <br>\n",
    "Before building model, please download dataset from figshare."
   ]
  },
  {
   "cell_type": "code",
   "execution_count": 2,
   "id": "42ad780c-fd26-48ab-a87b-87715c87a475",
   "metadata": {},
   "outputs": [],
   "source": [
    "# !pip list"
   ]
  },
  {
   "cell_type": "code",
   "execution_count": 1,
   "id": "94513074-7c8d-4ae6-936f-a37244793fa2",
   "metadata": {},
   "outputs": [],
   "source": [
    "from sklearn.gaussian_process import GaussianProcessRegressor\n",
    "from sklearn.gaussian_process.kernels import WhiteKernel\n",
    "from sklearn.gaussian_process.kernels import RBF\n",
    "from sklearn.gaussian_process.kernels import DotProduct\n",
    "\n",
    "from sklearn.model_selection import RandomizedSearchCV\n",
    "from sklearn.utils.fixes import loguniform\n",
    "from sklearn.preprocessing import normalize\n",
    "\n",
    "import time\n",
    "from sklearn.gaussian_process.kernels import ExpSineSquared\n",
    "from sklearn.kernel_ridge import KernelRidge\n",
    "\n",
    "import pandas as pd\n",
    "import sys\n",
    "import numpy as np\n",
    "import optuna\n",
    "from scipy import stats\n",
    "from m3gnet.models import M3GNet, M3GNetCalculator, Potential"
   ]
  },
  {
   "cell_type": "markdown",
   "id": "f4c4730a-f85e-4cef-889a-32ba46ee1e69",
   "metadata": {},
   "source": [
    "We build $^{13}C$ nmr prediction model. We use the dataset \"\""
   ]
  },
  {
   "cell_type": "code",
   "execution_count": 4,
   "id": "ca709b7e-7ad5-450c-92c7-d1644af61b22",
   "metadata": {},
   "outputs": [
    {
     "name": "stderr",
     "output_type": "stream",
     "text": [
      "2024-03-27 01:51:34.459195: W tensorflow/stream_executor/platform/default/dso_loader.cc:64] Could not load dynamic library 'libcuda.so.1'; dlerror: libcuda.so.1: cannot open shared object file: No such file or directory\n",
      "2024-03-27 01:51:34.459247: W tensorflow/stream_executor/cuda/cuda_driver.cc:269] failed call to cuInit: UNKNOWN ERROR (303)\n",
      "2024-03-27 01:51:34.459276: I tensorflow/stream_executor/cuda/cuda_diagnostics.cc:156] kernel driver does not appear to be running on this host (5e80501d8c5c): /proc/driver/nvidia/version does not exist\n",
      "2024-03-27 01:51:34.459787: I tensorflow/core/platform/cpu_feature_guard.cc:151] This TensorFlow binary is optimized with oneAPI Deep Neural Network Library (oneDNN) to use the following CPU instructions in performance-critical operations:  AVX2 FMA\n",
      "To enable them in other operations, rebuild TensorFlow with the appropriate compiler flags.\n"
     ]
    }
   ],
   "source": [
    "# Loading Pretrained model\n",
    "potential = Potential(M3GNet.load())\n",
    "calculator = M3GNetCalculator(potential=potential, stress_weight=0.01)"
   ]
  },
  {
   "cell_type": "code",
   "execution_count": 5,
   "id": "51eb95da-2bb3-4081-bae5-7710bf883985",
   "metadata": {},
   "outputs": [],
   "source": [
    "from pymatgen.io.ase import AseAtomsAdaptor\n",
    "from pymatgen.io.xyz import XYZ"
   ]
  },
  {
   "cell_type": "code",
   "execution_count": 6,
   "id": "7d99a442-f76f-48c6-aea6-e23450c852db",
   "metadata": {},
   "outputs": [],
   "source": [
    "xyz = XYZ.from_file('../../data/NMR/tutorial/nicotine.xyz')\n",
    "nicotine = AseAtomsAdaptor.get_atoms(xyz.all_molecules[0])"
   ]
  },
  {
   "cell_type": "markdown",
   "id": "a65f7925-cd0c-4f70-a0a6-ec39ff2812e6",
   "metadata": {},
   "source": [
    "## visualize"
   ]
  },
  {
   "cell_type": "code",
   "execution_count": 7,
   "id": "f2c12afe-401a-40b7-89c5-7e9f0716c1a7",
   "metadata": {},
   "outputs": [
    {
     "data": {
      "application/vnd.jupyter.widget-view+json": {
       "model_id": "6132e4c52142452db0ab1f878e2f23b9",
       "version_major": 2,
       "version_minor": 0
      },
      "text/plain": []
     },
     "metadata": {},
     "output_type": "display_data"
    },
    {
     "data": {
      "application/vnd.jupyter.widget-view+json": {
       "model_id": "e41b412a3cc5495cb178860cb0341bfc",
       "version_major": 2,
       "version_minor": 0
      },
      "text/plain": [
       "HBox(children=(NGLWidget(), VBox(children=(Dropdown(description='Show', options=('All', 'C', 'H', 'N'), value=…"
      ]
     },
     "execution_count": 7,
     "metadata": {},
     "output_type": "execute_result"
    }
   ],
   "source": [
    "from ase.visualize import view\n",
    "view(nicotine, viewer=\"ngl\")"
   ]
  },
  {
   "cell_type": "markdown",
   "id": "13340b57-17f6-4624-bb10-f81a890c85fb",
   "metadata": {},
   "source": [
    "## Generating descritptor"
   ]
  },
  {
   "cell_type": "markdown",
   "id": "f86ec9b3-f07d-42ae-a4fe-84dcd8a25aec",
   "metadata": {},
   "source": [
    "By executing the \"get_potential_energy\" method, we can get m3gnet descriptor."
   ]
  },
  {
   "cell_type": "code",
   "execution_count": 8,
   "id": "96cc983a-50ca-4bff-820b-9d66f0435e15",
   "metadata": {},
   "outputs": [
    {
     "data": {
      "text/plain": [
       "-157.98018"
      ]
     },
     "execution_count": 8,
     "metadata": {},
     "output_type": "execute_result"
    }
   ],
   "source": [
    "nicotine.set_calculator(calculator)\n",
    "nicotine.get_potential_energy()"
   ]
  },
  {
   "cell_type": "markdown",
   "id": "cbfb2254-c8a0-44ed-bac6-28b25ad1c425",
   "metadata": {},
   "source": [
    "Now, we get 'each_atom_energy.csv', in which there are 64 dimentions m3gnet descriptor vectors in each atom."
   ]
  },
  {
   "cell_type": "markdown",
   "id": "bcb22d87-a364-46b9-b944-8ce7f2113d13",
   "metadata": {},
   "source": [
    "In generating descriptors for many atoms, we recommend to use the python file \"m3gnet_gnn_tf_generator.py\""
   ]
  }
 ],
 "metadata": {
  "kernelspec": {
   "display_name": "Python 3 (ipykernel)",
   "language": "python",
   "name": "python3"
  },
  "language_info": {
   "codemirror_mode": {
    "name": "ipython",
    "version": 3
   },
   "file_extension": ".py",
   "mimetype": "text/x-python",
   "name": "python",
   "nbconvert_exporter": "python",
   "pygments_lexer": "ipython3",
   "version": "3.9.5"
  }
 },
 "nbformat": 4,
 "nbformat_minor": 5
}
