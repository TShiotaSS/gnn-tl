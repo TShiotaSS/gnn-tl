{
 "cells": [
  {
   "cell_type": "markdown",
   "id": "d9600c49-dea6-4fa6-843b-6a7d0b41c759",
   "metadata": {},
   "source": [
    "# Building QKRR NMR prediction model"
   ]
  },
  {
   "cell_type": "markdown",
   "id": "6047d791-def9-498c-a0b1-5f74d59f69d7",
   "metadata": {},
   "source": [
    "## Installing scikit-qulacs "
   ]
  },
  {
   "cell_type": "code",
   "execution_count": 1,
   "id": "386004e5-ce02-43ba-93bc-da1ea0967efa",
   "metadata": {},
   "outputs": [
    {
     "name": "stdout",
     "output_type": "stream",
     "text": [
      "Obtaining file:///workspace/scripts/skqulacs/scikit-qulacs\n",
      "  Installing build dependencies ... \u001b[?25ldone\n",
      "\u001b[?25h  Checking if build backend supports build_editable ... \u001b[?25ldone\n",
      "\u001b[?25h  Getting requirements to build editable ... \u001b[?25ldone\n",
      "\u001b[?25h  Preparing editable metadata (pyproject.toml) ... \u001b[?25ldone\n",
      "\u001b[?25hRequirement already satisfied: numpy<1.25.0,>=1.24.0 in /usr/local/lib/python3.9/dist-packages (from skqulacs==0.5.0) (1.24.4)\n",
      "Requirement already satisfied: qulacs<0.6.0,>=0.5.0 in /usr/local/lib/python3.9/dist-packages (from skqulacs==0.5.0) (0.5.6)\n",
      "Requirement already satisfied: scikit-learn<2.0.0,>=1.0.0 in /usr/local/lib/python3.9/dist-packages (from skqulacs==0.5.0) (1.2.2)\n",
      "Collecting scipy<1.11.0,>=1.10.0 (from skqulacs==0.5.0)\n",
      "  Downloading scipy-1.10.1-cp39-cp39-manylinux_2_17_x86_64.manylinux2014_x86_64.whl.metadata (58 kB)\n",
      "\u001b[2K     \u001b[90m━━━━━━━━━━━━━━━━━━━━━━━━━━━━━━━━━━━━━━━━\u001b[0m \u001b[32m58.9/58.9 kB\u001b[0m \u001b[31m2.6 MB/s\u001b[0m eta \u001b[36m0:00:00\u001b[0m\n",
      "\u001b[?25hRequirement already satisfied: typing-extensions<5.0.0,>=4.3.0 in /usr/local/lib/python3.9/dist-packages (from skqulacs==0.5.0) (4.10.0)\n",
      "Requirement already satisfied: joblib>=1.1.1 in /usr/local/lib/python3.9/dist-packages (from scikit-learn<2.0.0,>=1.0.0->skqulacs==0.5.0) (1.3.2)\n",
      "Requirement already satisfied: threadpoolctl>=2.0.0 in /usr/local/lib/python3.9/dist-packages (from scikit-learn<2.0.0,>=1.0.0->skqulacs==0.5.0) (3.4.0)\n",
      "Downloading scipy-1.10.1-cp39-cp39-manylinux_2_17_x86_64.manylinux2014_x86_64.whl (34.5 MB)\n",
      "\u001b[2K   \u001b[90m━━━━━━━━━━━━━━━━━━━━━━━━━━━━━━━━━━━━━━━━\u001b[0m \u001b[32m34.5/34.5 MB\u001b[0m \u001b[31m22.5 MB/s\u001b[0m eta \u001b[36m0:00:00\u001b[0m00:01\u001b[0m00:01\u001b[0m\n",
      "\u001b[?25hBuilding wheels for collected packages: skqulacs\n",
      "  Building editable for skqulacs (pyproject.toml) ... \u001b[?25ldone\n",
      "\u001b[?25h  Created wheel for skqulacs: filename=skqulacs-0.5.0-py3-none-any.whl size=2733 sha256=0ad17f8baff5ebfa4c1996f83b53eaf1f6b91658c69ec101dd343145606dca17\n",
      "  Stored in directory: /tmp/pip-ephem-wheel-cache-cgh4dfme/wheels/c4/26/9e/adb473dd12b0d09faffd2bf4503a07adc490e130efefd42a5c\n",
      "Successfully built skqulacs\n",
      "Installing collected packages: scipy, skqulacs\n",
      "  Attempting uninstall: scipy\n",
      "    Found existing installation: scipy 1.12.0\n",
      "    Uninstalling scipy-1.12.0:\n",
      "      Successfully uninstalled scipy-1.12.0\n",
      "Successfully installed scipy-1.10.1 skqulacs-0.5.0\n",
      "\u001b[33mWARNING: Running pip as the 'root' user can result in broken permissions and conflicting behaviour with the system package manager. It is recommended to use a virtual environment instead: https://pip.pypa.io/warnings/venv\u001b[0m\u001b[33m\n",
      "\u001b[0m"
     ]
    }
   ],
   "source": [
    "!pip install -e ../../scripts/skqulacs/scikit-qulacs"
   ]
  },
  {
   "cell_type": "markdown",
   "id": "00e113e9-f8e9-4d6c-81f1-7a440449c281",
   "metadata": {},
   "source": [
    "# Restart kernel"
   ]
  },
  {
   "cell_type": "code",
   "execution_count": 1,
   "id": "c7a83da6-fc37-406b-8bec-642aeadb5b45",
   "metadata": {},
   "outputs": [],
   "source": [
    "from sklearn.gaussian_process import GaussianProcessRegressor\n",
    "from sklearn.gaussian_process.kernels import WhiteKernel\n",
    "from sklearn.gaussian_process.kernels import RBF\n",
    "\n",
    "from sklearn.model_selection import RandomizedSearchCV\n",
    "from sklearn.utils.fixes import loguniform\n",
    "\n",
    "import time\n",
    "from sklearn.gaussian_process.kernels import ExpSineSquared\n",
    "from sklearn.kernel_ridge import KernelRidge\n",
    "\n",
    "import pandas as pd\n",
    "import sys\n",
    "\n",
    "from skqulacs.qnn import QNNRegressor\n",
    "from skqulacs.circuit.pre_defined import create_qcl_ansatz,create_ibm_embedding_circuit,create_npqc_ansatz\n",
    "from skqulacs.qnn.solver import Bfgs\n",
    "from skqulacs.qnn.solver import Adam\n",
    "from skqulacs.qkrr import QKRR\n",
    "\n",
    "import numpy as np\n",
    "import optuna\n"
   ]
  },
  {
   "cell_type": "markdown",
   "id": "d643f8e4-cfb0-4f75-b715-9ab97b3f457b",
   "metadata": {},
   "source": [
    "We build $^{13}C$ nmr prediction model. We use the dataset \"m3gnet_train_C_1000.csv\", which contains 1000 $^{13}C$ environments."
   ]
  },
  {
   "cell_type": "code",
   "execution_count": 2,
   "id": "598c04eb-089c-4770-b982-107ad2b3827d",
   "metadata": {},
   "outputs": [],
   "source": [
    "element = \"C\"\n",
    "atomic_number = 6\n",
    "df_train =  pd.read_csv(f'../../data/NMR/train_dataset/{element}/m3gnet_train_{element}_1000.csv') \n",
    "df_test =  pd.read_csv(f'../../data/NMR/test_dataset/{element}/m3gnet_test_{element}.csv') "
   ]
  },
  {
   "cell_type": "markdown",
   "id": "ffbc262a-568c-442e-b348-cebdaefc0a3e",
   "metadata": {},
   "source": [
    "## Splitting dataframe into X and y"
   ]
  },
  {
   "cell_type": "code",
   "execution_count": 3,
   "id": "f877e7bd-73dc-44bf-96de-a2661dc0e5a0",
   "metadata": {},
   "outputs": [],
   "source": [
    "X_train = df_train.loc[:, \"atom_feature_vector_1\":\"atom_feature_vector_64\"]\n",
    "X_test = df_test.loc[:, \"atom_feature_vector_1\":\"atom_feature_vector_64\"]\n",
    "y_train = df_train[[\"nmr_shift\"]]\n",
    "y_test = df_test[[\"nmr_shift\"]]"
   ]
  },
  {
   "cell_type": "markdown",
   "id": "cff48b06-d2f6-41fa-8006-2993117d4868",
   "metadata": {},
   "source": [
    "## Converting to numpy"
   ]
  },
  {
   "cell_type": "code",
   "execution_count": 4,
   "id": "60144576-a0fe-4bef-a36b-289410ee7af0",
   "metadata": {},
   "outputs": [],
   "source": [
    "X_train = X_train.to_numpy()\n",
    "X_test = X_test.to_numpy()\n",
    "y_train = y_train.to_numpy().reshape(-1,)\n",
    "y_test = y_test.to_numpy().reshape(-1,)"
   ]
  },
  {
   "cell_type": "markdown",
   "id": "9d7b59ba-5a6c-43aa-8b46-dd275ea1f53a",
   "metadata": {},
   "source": [
    "## Building quantum kernel ridge model and fitting"
   ]
  },
  {
   "cell_type": "code",
   "execution_count": 5,
   "id": "d30b4358-a91d-4d74-9e16-7ca0cd231754",
   "metadata": {},
   "outputs": [
    {
     "name": "stdout",
     "output_type": "stream",
     "text": [
      "{'alpha': 0.013680095279726915}\n"
     ]
    }
   ],
   "source": [
    "n_qubit = 6\n",
    "depth = 15\n",
    "c = 1.5\n",
    "circuit = create_npqc_ansatz(n_qubit, depth, c)\n",
    "qkrr = QKRR(circuit)\n",
    "qkrr.fit(X_train, y_train)"
   ]
  },
  {
   "cell_type": "markdown",
   "id": "ffa76d35-0486-4b27-9ecc-76245f6bf445",
   "metadata": {},
   "source": [
    "In order to find best hyper parameters, we use randomized search. The number of iterations is 50."
   ]
  },
  {
   "cell_type": "markdown",
   "id": "17fc38a1-ba0f-4e03-b61d-07fd2f924c65",
   "metadata": {},
   "source": [
    "## Predicting nmr values"
   ]
  },
  {
   "cell_type": "code",
   "execution_count": 6,
   "id": "4999c0f7-5982-4aa2-a680-8addbf049e8a",
   "metadata": {},
   "outputs": [],
   "source": [
    "from sklearn.metrics import mean_absolute_error  # MAE\n",
    "from sklearn.metrics import mean_squared_error  # MSE\n",
    "predictions_qkrr_train = qkrr.predict(X_train)\n",
    "predictions_qkrr_test = qkrr.predict(X_test)"
   ]
  },
  {
   "cell_type": "markdown",
   "id": "4f183d91-c0f8-412f-9fa3-4f18a8a37382",
   "metadata": {},
   "source": [
    "## Calc. MAE and MSE"
   ]
  },
  {
   "cell_type": "code",
   "execution_count": 7,
   "id": "9bf35d9c-ea23-453d-8b95-e14951452507",
   "metadata": {},
   "outputs": [],
   "source": [
    "mae_train = mean_absolute_error(y_train, predictions_qkrr_train)\n",
    "mae_test = mean_absolute_error(y_test, predictions_qkrr_test)"
   ]
  },
  {
   "cell_type": "code",
   "execution_count": 8,
   "id": "10db1e6f-9a5b-42e1-9b25-a7136f6a91db",
   "metadata": {},
   "outputs": [
    {
     "name": "stdout",
     "output_type": "stream",
     "text": [
      "MAE(train) : 3.5657127015933994 ppm\n",
      "MAE(test) : 6.50303103360106 ppm\n"
     ]
    }
   ],
   "source": [
    "print(f\"MAE(train) : {mae_train} ppm\")\n",
    "print(f\"MAE(test) : {mae_test} ppm\")"
   ]
  }
 ],
 "metadata": {
  "kernelspec": {
   "display_name": "Python 3 (ipykernel)",
   "language": "python",
   "name": "python3"
  },
  "language_info": {
   "codemirror_mode": {
    "name": "ipython",
    "version": 3
   },
   "file_extension": ".py",
   "mimetype": "text/x-python",
   "name": "python",
   "nbconvert_exporter": "python",
   "pygments_lexer": "ipython3",
   "version": "3.9.5"
  }
 },
 "nbformat": 4,
 "nbformat_minor": 5
}
