{
 "cells": [
  {
   "cell_type": "markdown",
   "id": "d9600c49-dea6-4fa6-843b-6a7d0b41c759",
   "metadata": {},
   "source": [
    "# Building QKRR NMR prediction model"
   ]
  },
  {
   "cell_type": "markdown",
   "id": "aa2abd6c-5c25-4f4c-b68c-4b741beb60a6",
   "metadata": {},
   "source": [
    "Under construction"
   ]
  },
  {
   "cell_type": "code",
   "execution_count": null,
   "id": "c7a83da6-fc37-406b-8bec-642aeadb5b45",
   "metadata": {},
   "outputs": [],
   "source": []
  }
 ],
 "metadata": {
  "kernelspec": {
   "display_name": "Python 3 (ipykernel)",
   "language": "python",
   "name": "python3"
  },
  "language_info": {
   "codemirror_mode": {
    "name": "ipython",
    "version": 3
   },
   "file_extension": ".py",
   "mimetype": "text/x-python",
   "name": "python",
   "nbconvert_exporter": "python",
   "pygments_lexer": "ipython3",
   "version": "3.9.5"
  }
 },
 "nbformat": 4,
 "nbformat_minor": 5
}
