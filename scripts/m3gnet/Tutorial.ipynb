{
 "cells": [
  {
   "cell_type": "markdown",
   "id": "d9600c49-dea6-4fa6-843b-6a7d0b41c759",
   "metadata": {},
   "source": [
    "# Tutorial"
   ]
  },
  {
   "cell_type": "markdown",
   "id": "b8cfc9f4-1070-4d1a-b9d0-49a403b90f2c",
   "metadata": {},
   "source": [
    "## Installing m3gnet descriptor generator library\n",
    "- m3gnet_each_atom_vector\n",
    "- tensorflow==2.8.4"
   ]
  },
  {
   "cell_type": "code",
   "execution_count": 30,
   "id": "7a94fa1d-2f09-419c-b97f-54ceb7021600",
   "metadata": {},
   "outputs": [],
   "source": [
    "# !pip install -e ./pretrained_m3gnet/m3gnet_each_atom_vector"
   ]
  },
  {
   "cell_type": "code",
   "execution_count": 31,
   "id": "f9133c3c-cb3d-4f82-ad51-feaf900a2e62",
   "metadata": {},
   "outputs": [],
   "source": [
    "# latest tensorflow may not work.\n",
    "# !pip install tensorflow==2.8.4"
   ]
  },
  {
   "cell_type": "markdown",
   "id": "d0a86514-5597-463c-a88d-3ba80216fde5",
   "metadata": {},
   "source": [
    "## Generating M3GNet Descriptor"
   ]
  },
  {
   "cell_type": "markdown",
   "id": "dec902a6-c025-447c-a4f2-0ba1597ded98",
   "metadata": {},
   "source": [
    "For example, we will see nicotine molecule's generator."
   ]
  },
  {
   "cell_type": "code",
   "execution_count": 18,
   "id": "d8da4df1-83ac-4cd0-816d-fdd22d57c109",
   "metadata": {},
   "outputs": [],
   "source": [
    "from m3gnet.models import M3GNet, M3GNetCalculator, Potential"
   ]
  },
  {
   "cell_type": "code",
   "execution_count": 19,
   "id": "ca709b7e-7ad5-450c-92c7-d1644af61b22",
   "metadata": {},
   "outputs": [
    {
     "name": "stdout",
     "output_type": "stream",
     "text": [
      "super_initはじめ\n",
      "super_init終わり\n",
      "super_initはじめ\n",
      "super_init終わり\n",
      "super_initはじめ\n",
      "super_init終わり\n",
      "super_initはじめ\n",
      "super_init終わり\n",
      "units:64\n",
      "unit:64\n",
      "super_initはじめ\n",
      "super_init終わり\n"
     ]
    }
   ],
   "source": [
    "# Loading Pretrained model\n",
    "potential = Potential(M3GNet.load())\n",
    "calculator = M3GNetCalculator(potential=potential, stress_weight=0.01)"
   ]
  },
  {
   "cell_type": "code",
   "execution_count": 20,
   "id": "51eb95da-2bb3-4081-bae5-7710bf883985",
   "metadata": {},
   "outputs": [],
   "source": [
    "from pymatgen.io.ase import AseAtomsAdaptor\n",
    "from pymatgen.io.xyz import XYZ"
   ]
  },
  {
   "cell_type": "code",
   "execution_count": 23,
   "id": "7d99a442-f76f-48c6-aea6-e23450c852db",
   "metadata": {},
   "outputs": [],
   "source": [
    "xyz = XYZ.from_file('../../data/NMR/tutorial/nicotine.xyz')\n",
    "nicotine = AseAtomsAdaptor.get_atoms(xyz.all_molecules[0])"
   ]
  },
  {
   "cell_type": "markdown",
   "id": "a65f7925-cd0c-4f70-a0a6-ec39ff2812e6",
   "metadata": {},
   "source": [
    "## visualize"
   ]
  },
  {
   "cell_type": "code",
   "execution_count": 24,
   "id": "f2c12afe-401a-40b7-89c5-7e9f0716c1a7",
   "metadata": {},
   "outputs": [
    {
     "data": {
      "application/vnd.jupyter.widget-view+json": {
       "model_id": "a3642e6076ae4b32ba9bc0d8bf562fe2",
       "version_major": 2,
       "version_minor": 0
      },
      "text/plain": [
       "HBox(children=(NGLWidget(), VBox(children=(Dropdown(description='Show', options=('All', 'N', 'C', 'H'), value=…"
      ]
     },
     "execution_count": 24,
     "metadata": {},
     "output_type": "execute_result"
    }
   ],
   "source": [
    "from ase.visualize import view\n",
    "view(nicotine, viewer=\"ngl\")"
   ]
  },
  {
   "cell_type": "markdown",
   "id": "13340b57-17f6-4624-bb10-f81a890c85fb",
   "metadata": {},
   "source": [
    "## Generating descritptor"
   ]
  },
  {
   "cell_type": "markdown",
   "id": "f86ec9b3-f07d-42ae-a4fe-84dcd8a25aec",
   "metadata": {},
   "source": [
    "By executing the \"get_potential_energy\" method, we can get m3gnet descriptor."
   ]
  },
  {
   "cell_type": "code",
   "execution_count": 27,
   "id": "96cc983a-50ca-4bff-820b-9d66f0435e15",
   "metadata": {},
   "outputs": [
    {
     "data": {
      "text/plain": [
       "-157.98018"
      ]
     },
     "execution_count": 27,
     "metadata": {},
     "output_type": "execute_result"
    }
   ],
   "source": [
    "nicotine.set_calculator(calculator)\n",
    "nicotine.get_potential_energy()"
   ]
  },
  {
   "cell_type": "markdown",
   "id": "cbfb2254-c8a0-44ed-bac6-28b25ad1c425",
   "metadata": {},
   "source": [
    "Now, we get 'each_atom_energy.csv', in which there are 64 dimentions m3gnet descriptor vectors in each atom."
   ]
  },
  {
   "cell_type": "markdown",
   "id": "bcb22d87-a364-46b9-b944-8ce7f2113d13",
   "metadata": {},
   "source": [
    "In generating descriptors for many atoms, we recommend to use the python file \"m3gnet_gnn_tf_generator.py\""
   ]
  }
 ],
 "metadata": {
  "kernelspec": {
   "display_name": "Python 3 (ipykernel)",
   "language": "python",
   "name": "python3"
  },
  "language_info": {
   "codemirror_mode": {
    "name": "ipython",
    "version": 3
   },
   "file_extension": ".py",
   "mimetype": "text/x-python",
   "name": "python",
   "nbconvert_exporter": "python",
   "pygments_lexer": "ipython3",
   "version": "3.9.5"
  }
 },
 "nbformat": 4,
 "nbformat_minor": 5
}
