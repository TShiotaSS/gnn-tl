{
 "cells": [
  {
   "cell_type": "code",
   "execution_count": 1,
   "id": "659b258b-b8f6-4def-be61-e93593ee2638",
   "metadata": {},
   "outputs": [],
   "source": [
    "# Data distribution"
   ]
  },
  {
   "cell_type": "code",
   "execution_count": 2,
   "id": "633c34fc-791e-4343-8b2a-321783ea8154",
   "metadata": {},
   "outputs": [],
   "source": [
    "import pandas as pd\n",
    "import matplotlib.pyplot as plt\n",
    "import numpy as np"
   ]
  },
  {
   "cell_type": "code",
   "execution_count": 10,
   "id": "69e48d40-6eec-4f66-ae92-b465f3e1cf05",
   "metadata": {},
   "outputs": [],
   "source": [
    "import os \n",
    "os.makedirs(f'../data/NMR/fig', exist_ok=True)"
   ]
  },
  {
   "cell_type": "code",
   "execution_count": 12,
   "id": "2eab297d-ea48-4054-8137-8771d2b491a3",
   "metadata": {},
   "outputs": [],
   "source": [
    "# 曲線を滑らかにする => 細かくプロットする\n",
    "from scipy.interpolate import make_interp_spline\n",
    "from scipy.ndimage import gaussian_filter1d\n",
    "from scipy.ndimage import gaussian_filter"
   ]
  },
  {
   "cell_type": "code",
   "execution_count": 13,
   "id": "ad86b3e6-f297-4a5f-b0c2-6e448936a300",
   "metadata": {},
   "outputs": [],
   "source": [
    "train_size_list = [\"100\",\"200\",\"500\",\"1000\",\"2000\",\"5000\",\"10000\",\"20000\",\"50000\",\"100000\",\"200000\"]"
   ]
  },
  {
   "cell_type": "code",
   "execution_count": 14,
   "id": "e44be675-9b16-4e94-959d-de06587045fa",
   "metadata": {},
   "outputs": [
    {
     "name": "stdout",
     "output_type": "stream",
     "text": [
      "((0, 0, 255), '#0000FF')\n",
      "((25, 0, 229), '#1900E5')\n",
      "((51, 0, 204), '#3300CC')\n",
      "((76, 0, 178), '#4C00B2')\n",
      "((102, 0, 153), '#660099')\n",
      "((127, 0, 127), '#7F007F')\n",
      "((153, 0, 102), '#990066')\n",
      "((178, 0, 76), '#B2004C')\n",
      "((204, 0, 51), '#CC0033')\n",
      "((229, 0, 25), '#E50019')\n",
      "((255, 0, 0), '#FF0000')\n"
     ]
    }
   ],
   "source": [
    "def generate_color_gradient(start_color, end_color, num_colors):\n",
    "    # RGBカラーを0から255の範囲で指定します。\n",
    "    start_r, start_g, start_b = start_color\n",
    "    end_r, end_g, end_b = end_color\n",
    "\n",
    "    # 色の変化を計算します。\n",
    "    r_step = (end_r - start_r) / (num_colors - 1)\n",
    "    g_step = (end_g - start_g) / (num_colors - 1)\n",
    "    b_step = (end_b - start_b) / (num_colors - 1)\n",
    "\n",
    "    # カラーコードのリストを生成します。\n",
    "    color_gradient = []\n",
    "    for i in range(num_colors):\n",
    "        r = int(start_r + i * r_step)\n",
    "        g = int(start_g + i * g_step)\n",
    "        b = int(start_b + i * b_step)\n",
    "        color = (r, g, b)\n",
    "        color_code = \"#{:02X}{:02X}{:02X}\".format(r, g, b)\n",
    "        color_gradient.append((color, color_code))\n",
    "\n",
    "    return color_gradient\n",
    "\n",
    "# 開始色と終了色を指定します。例えば、青から赤に変化させる場合は、(0, 0, 255) から (255, 0, 0) になります。\n",
    "start_color = (0, 0, 255)\n",
    "end_color = (255, 0, 0)\n",
    "\n",
    "# グラデーションの色の数を指定します。\n",
    "num_colors = 11\n",
    "\n",
    "# グラデーションのカラーコードを生成します。\n",
    "color_gradient = generate_color_gradient(start_color, end_color, num_colors)\n",
    "\n",
    "train_size_dict_color = dict()\n",
    "# カラーコードを表示します。\n",
    "for i, color_code in enumerate(color_gradient):\n",
    "    train_size_dict_color[train_size_list[10-i]] = color_code[1]\n",
    "    print(color_code)"
   ]
  },
  {
   "cell_type": "code",
   "execution_count": null,
   "id": "bd9d2506-3bde-4087-b0ec-f8547c467b0e",
   "metadata": {},
   "outputs": [],
   "source": [
    "df_all = pd.read_csv(f\"m3gnet_total_{element}.csv\")\n",
    "    # df_test = pd.read_csv(f\"m3gnet_test_{element}.csv\")\n",
    "\n",
    "df_test = pd.read_csv(f\"m3gnet_test_{element}.csv\")\n"
   ]
  }
 ],
 "metadata": {
  "kernelspec": {
   "display_name": "Python 3 (ipykernel)",
   "language": "python",
   "name": "python3"
  },
  "language_info": {
   "codemirror_mode": {
    "name": "ipython",
    "version": 3
   },
   "file_extension": ".py",
   "mimetype": "text/x-python",
   "name": "python",
   "nbconvert_exporter": "python",
   "pygments_lexer": "ipython3",
   "version": "3.9.5"
  }
 },
 "nbformat": 4,
 "nbformat_minor": 5
}
