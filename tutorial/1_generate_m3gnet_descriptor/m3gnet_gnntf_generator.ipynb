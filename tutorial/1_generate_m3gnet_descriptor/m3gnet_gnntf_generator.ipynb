{
 "cells": [
  {
   "cell_type": "markdown",
   "id": "d9600c49-dea6-4fa6-843b-6a7d0b41c759",
   "metadata": {},
   "source": [
    "# Tutorial"
   ]
  },
  {
   "cell_type": "markdown",
   "id": "b8cfc9f4-1070-4d1a-b9d0-49a403b90f2c",
   "metadata": {},
   "source": [
    "## Installing m3gnet descriptor generator library\n",
    "- m3gnet_each_atom_vector"
   ]
  },
  {
   "cell_type": "code",
   "execution_count": 1,
   "id": "7a94fa1d-2f09-419c-b97f-54ceb7021600",
   "metadata": {},
   "outputs": [
    {
     "name": "stdout",
     "output_type": "stream",
     "text": [
      "Obtaining file:///workspace/scripts/m3gnet/pretrained_m3gnet/m3gnet_each_atom_vector\n",
      "  Installing build dependencies ... \u001b[?25ldone\n",
      "\u001b[?25h  Checking if build backend supports build_editable ... \u001b[?25ldone\n",
      "\u001b[?25h  Getting requirements to build editable ... \u001b[?25ldone\n",
      "\u001b[?25h  Installing backend dependencies ... \u001b[?25ldone\n",
      "\u001b[?25h  Preparing editable metadata (pyproject.toml) ... \u001b[?25ldone\n",
      "\u001b[?25hRequirement already satisfied: pymatgen in /usr/local/lib/python3.9/dist-packages (from m3gnet==0.2.4) (2023.9.25)\n",
      "Requirement already satisfied: tensorflow==2.8.4 in /usr/local/lib/python3.9/dist-packages (from m3gnet==0.2.4) (2.8.4)\n",
      "Requirement already satisfied: numpy==1.24.4 in /usr/local/lib/python3.9/dist-packages (from m3gnet==0.2.4) (1.24.4)\n",
      "Requirement already satisfied: monty in /usr/local/lib/python3.9/dist-packages (from m3gnet==0.2.4) (2024.2.26)\n",
      "Requirement already satisfied: sympy in /usr/local/lib/python3.9/dist-packages (from m3gnet==0.2.4) (1.12)\n",
      "Requirement already satisfied: ase in /usr/local/lib/python3.9/dist-packages (from m3gnet==0.2.4) (3.22.1)\n",
      "Requirement already satisfied: absl-py>=0.4.0 in /usr/local/lib/python3.9/dist-packages (from tensorflow==2.8.4->m3gnet==0.2.4) (2.1.0)\n",
      "Requirement already satisfied: astunparse>=1.6.0 in /usr/local/lib/python3.9/dist-packages (from tensorflow==2.8.4->m3gnet==0.2.4) (1.6.3)\n",
      "Requirement already satisfied: flatbuffers>=1.12 in /usr/local/lib/python3.9/dist-packages (from tensorflow==2.8.4->m3gnet==0.2.4) (24.3.25)\n",
      "Requirement already satisfied: gast>=0.2.1 in /usr/local/lib/python3.9/dist-packages (from tensorflow==2.8.4->m3gnet==0.2.4) (0.5.4)\n",
      "Requirement already satisfied: google-pasta>=0.1.1 in /usr/local/lib/python3.9/dist-packages (from tensorflow==2.8.4->m3gnet==0.2.4) (0.2.0)\n",
      "Requirement already satisfied: h5py>=2.9.0 in /usr/local/lib/python3.9/dist-packages (from tensorflow==2.8.4->m3gnet==0.2.4) (3.10.0)\n",
      "Requirement already satisfied: keras-preprocessing>=1.1.1 in /usr/local/lib/python3.9/dist-packages (from tensorflow==2.8.4->m3gnet==0.2.4) (1.1.2)\n",
      "Requirement already satisfied: libclang>=9.0.1 in /usr/local/lib/python3.9/dist-packages (from tensorflow==2.8.4->m3gnet==0.2.4) (18.1.1)\n",
      "Requirement already satisfied: opt-einsum>=2.3.2 in /usr/local/lib/python3.9/dist-packages (from tensorflow==2.8.4->m3gnet==0.2.4) (3.3.0)\n",
      "Requirement already satisfied: protobuf<3.20,>=3.9.2 in /usr/local/lib/python3.9/dist-packages (from tensorflow==2.8.4->m3gnet==0.2.4) (3.19.6)\n",
      "Requirement already satisfied: setuptools in /usr/lib/python3/dist-packages (from tensorflow==2.8.4->m3gnet==0.2.4) (45.2.0)\n",
      "Requirement already satisfied: six>=1.12.0 in /usr/local/lib/python3.9/dist-packages (from tensorflow==2.8.4->m3gnet==0.2.4) (1.16.0)\n",
      "Requirement already satisfied: termcolor>=1.1.0 in /usr/local/lib/python3.9/dist-packages (from tensorflow==2.8.4->m3gnet==0.2.4) (2.4.0)\n",
      "Requirement already satisfied: typing-extensions>=3.6.6 in /usr/local/lib/python3.9/dist-packages (from tensorflow==2.8.4->m3gnet==0.2.4) (4.10.0)\n",
      "Requirement already satisfied: wrapt>=1.11.0 in /usr/local/lib/python3.9/dist-packages (from tensorflow==2.8.4->m3gnet==0.2.4) (1.16.0)\n",
      "Requirement already satisfied: tensorboard<2.9,>=2.8 in /usr/local/lib/python3.9/dist-packages (from tensorflow==2.8.4->m3gnet==0.2.4) (2.8.0)\n",
      "Requirement already satisfied: tensorflow-estimator<2.9,>=2.8 in /usr/local/lib/python3.9/dist-packages (from tensorflow==2.8.4->m3gnet==0.2.4) (2.8.0)\n",
      "Requirement already satisfied: keras<2.9,>=2.8.0rc0 in /usr/local/lib/python3.9/dist-packages (from tensorflow==2.8.4->m3gnet==0.2.4) (2.8.0)\n",
      "Requirement already satisfied: tensorflow-io-gcs-filesystem>=0.23.1 in /usr/local/lib/python3.9/dist-packages (from tensorflow==2.8.4->m3gnet==0.2.4) (0.36.0)\n",
      "Requirement already satisfied: grpcio<2.0,>=1.24.3 in /usr/local/lib/python3.9/dist-packages (from tensorflow==2.8.4->m3gnet==0.2.4) (1.62.1)\n",
      "Requirement already satisfied: matplotlib>=3.1.0 in /usr/local/lib/python3.9/dist-packages (from ase->m3gnet==0.2.4) (3.8.3)\n",
      "Requirement already satisfied: scipy>=1.1.0 in /usr/local/lib/python3.9/dist-packages (from ase->m3gnet==0.2.4) (1.10.1)\n",
      "Requirement already satisfied: networkx>=2.2 in /usr/local/lib/python3.9/dist-packages (from pymatgen->m3gnet==0.2.4) (3.2.1)\n",
      "Requirement already satisfied: palettable>=3.1.1 in /usr/local/lib/python3.9/dist-packages (from pymatgen->m3gnet==0.2.4) (3.3.3)\n",
      "Requirement already satisfied: pandas in /usr/local/lib/python3.9/dist-packages (from pymatgen->m3gnet==0.2.4) (2.2.1)\n",
      "Requirement already satisfied: plotly>=4.5.0 in /usr/local/lib/python3.9/dist-packages (from pymatgen->m3gnet==0.2.4) (5.20.0)\n",
      "Requirement already satisfied: pybtex in /usr/local/lib/python3.9/dist-packages (from pymatgen->m3gnet==0.2.4) (0.24.0)\n",
      "Requirement already satisfied: requests in /usr/local/lib/python3.9/dist-packages (from pymatgen->m3gnet==0.2.4) (2.31.0)\n",
      "Requirement already satisfied: ruamel.yaml>=0.17.0 in /usr/local/lib/python3.9/dist-packages (from pymatgen->m3gnet==0.2.4) (0.18.6)\n",
      "Requirement already satisfied: spglib>=2.0.2 in /usr/local/lib/python3.9/dist-packages (from pymatgen->m3gnet==0.2.4) (2.3.1)\n",
      "Requirement already satisfied: tabulate in /usr/local/lib/python3.9/dist-packages (from pymatgen->m3gnet==0.2.4) (0.9.0)\n",
      "Requirement already satisfied: tqdm in /usr/local/lib/python3.9/dist-packages (from pymatgen->m3gnet==0.2.4) (4.66.2)\n",
      "Requirement already satisfied: uncertainties>=3.1.4 in /usr/local/lib/python3.9/dist-packages (from pymatgen->m3gnet==0.2.4) (3.1.7)\n",
      "Requirement already satisfied: joblib in /usr/local/lib/python3.9/dist-packages (from pymatgen->m3gnet==0.2.4) (1.3.2)\n",
      "Requirement already satisfied: mpmath>=0.19 in /usr/local/lib/python3.9/dist-packages (from sympy->m3gnet==0.2.4) (1.3.0)\n",
      "Requirement already satisfied: wheel<1.0,>=0.23.0 in /usr/lib/python3/dist-packages (from astunparse>=1.6.0->tensorflow==2.8.4->m3gnet==0.2.4) (0.34.2)\n",
      "Requirement already satisfied: contourpy>=1.0.1 in /usr/local/lib/python3.9/dist-packages (from matplotlib>=3.1.0->ase->m3gnet==0.2.4) (1.2.0)\n",
      "Requirement already satisfied: cycler>=0.10 in /usr/local/lib/python3.9/dist-packages (from matplotlib>=3.1.0->ase->m3gnet==0.2.4) (0.12.1)\n",
      "Requirement already satisfied: fonttools>=4.22.0 in /usr/local/lib/python3.9/dist-packages (from matplotlib>=3.1.0->ase->m3gnet==0.2.4) (4.50.0)\n",
      "Requirement already satisfied: kiwisolver>=1.3.1 in /usr/local/lib/python3.9/dist-packages (from matplotlib>=3.1.0->ase->m3gnet==0.2.4) (1.4.5)\n",
      "Requirement already satisfied: packaging>=20.0 in /usr/local/lib/python3.9/dist-packages (from matplotlib>=3.1.0->ase->m3gnet==0.2.4) (24.0)\n",
      "Requirement already satisfied: pillow>=8 in /usr/local/lib/python3.9/dist-packages (from matplotlib>=3.1.0->ase->m3gnet==0.2.4) (10.2.0)\n",
      "Requirement already satisfied: pyparsing>=2.3.1 in /usr/local/lib/python3.9/dist-packages (from matplotlib>=3.1.0->ase->m3gnet==0.2.4) (3.1.2)\n",
      "Requirement already satisfied: python-dateutil>=2.7 in /usr/local/lib/python3.9/dist-packages (from matplotlib>=3.1.0->ase->m3gnet==0.2.4) (2.9.0.post0)\n",
      "Requirement already satisfied: importlib-resources>=3.2.0 in /usr/local/lib/python3.9/dist-packages (from matplotlib>=3.1.0->ase->m3gnet==0.2.4) (6.4.0)\n",
      "Requirement already satisfied: tenacity>=6.2.0 in /usr/local/lib/python3.9/dist-packages (from plotly>=4.5.0->pymatgen->m3gnet==0.2.4) (8.2.3)\n",
      "Requirement already satisfied: ruamel.yaml.clib>=0.2.7 in /usr/local/lib/python3.9/dist-packages (from ruamel.yaml>=0.17.0->pymatgen->m3gnet==0.2.4) (0.2.8)\n",
      "Requirement already satisfied: google-auth<3,>=1.6.3 in /usr/local/lib/python3.9/dist-packages (from tensorboard<2.9,>=2.8->tensorflow==2.8.4->m3gnet==0.2.4) (2.29.0)\n",
      "Requirement already satisfied: google-auth-oauthlib<0.5,>=0.4.1 in /usr/local/lib/python3.9/dist-packages (from tensorboard<2.9,>=2.8->tensorflow==2.8.4->m3gnet==0.2.4) (0.4.6)\n",
      "Requirement already satisfied: markdown>=2.6.8 in /usr/local/lib/python3.9/dist-packages (from tensorboard<2.9,>=2.8->tensorflow==2.8.4->m3gnet==0.2.4) (3.6)\n",
      "Requirement already satisfied: tensorboard-data-server<0.7.0,>=0.6.0 in /usr/local/lib/python3.9/dist-packages (from tensorboard<2.9,>=2.8->tensorflow==2.8.4->m3gnet==0.2.4) (0.6.1)\n",
      "Requirement already satisfied: tensorboard-plugin-wit>=1.6.0 in /usr/local/lib/python3.9/dist-packages (from tensorboard<2.9,>=2.8->tensorflow==2.8.4->m3gnet==0.2.4) (1.8.1)\n",
      "Requirement already satisfied: werkzeug>=0.11.15 in /usr/local/lib/python3.9/dist-packages (from tensorboard<2.9,>=2.8->tensorflow==2.8.4->m3gnet==0.2.4) (3.0.1)\n",
      "Requirement already satisfied: charset-normalizer<4,>=2 in /usr/local/lib/python3.9/dist-packages (from requests->pymatgen->m3gnet==0.2.4) (3.3.2)\n",
      "Requirement already satisfied: idna<4,>=2.5 in /usr/local/lib/python3.9/dist-packages (from requests->pymatgen->m3gnet==0.2.4) (3.6)\n",
      "Requirement already satisfied: urllib3<3,>=1.21.1 in /usr/local/lib/python3.9/dist-packages (from requests->pymatgen->m3gnet==0.2.4) (2.2.1)\n",
      "Requirement already satisfied: certifi>=2017.4.17 in /usr/local/lib/python3.9/dist-packages (from requests->pymatgen->m3gnet==0.2.4) (2024.2.2)\n",
      "Requirement already satisfied: future in /usr/local/lib/python3.9/dist-packages (from uncertainties>=3.1.4->pymatgen->m3gnet==0.2.4) (1.0.0)\n",
      "Requirement already satisfied: pytz>=2020.1 in /usr/local/lib/python3.9/dist-packages (from pandas->pymatgen->m3gnet==0.2.4) (2024.1)\n",
      "Requirement already satisfied: tzdata>=2022.7 in /usr/local/lib/python3.9/dist-packages (from pandas->pymatgen->m3gnet==0.2.4) (2024.1)\n",
      "Requirement already satisfied: PyYAML>=3.01 in /usr/local/lib/python3.9/dist-packages (from pybtex->pymatgen->m3gnet==0.2.4) (6.0.1)\n",
      "Requirement already satisfied: latexcodec>=1.0.4 in /usr/local/lib/python3.9/dist-packages (from pybtex->pymatgen->m3gnet==0.2.4) (3.0.0)\n",
      "Requirement already satisfied: cachetools<6.0,>=2.0.0 in /usr/local/lib/python3.9/dist-packages (from google-auth<3,>=1.6.3->tensorboard<2.9,>=2.8->tensorflow==2.8.4->m3gnet==0.2.4) (5.3.3)\n",
      "Requirement already satisfied: pyasn1-modules>=0.2.1 in /usr/local/lib/python3.9/dist-packages (from google-auth<3,>=1.6.3->tensorboard<2.9,>=2.8->tensorflow==2.8.4->m3gnet==0.2.4) (0.4.0)\n",
      "Requirement already satisfied: rsa<5,>=3.1.4 in /usr/local/lib/python3.9/dist-packages (from google-auth<3,>=1.6.3->tensorboard<2.9,>=2.8->tensorflow==2.8.4->m3gnet==0.2.4) (4.9)\n",
      "Requirement already satisfied: requests-oauthlib>=0.7.0 in /usr/local/lib/python3.9/dist-packages (from google-auth-oauthlib<0.5,>=0.4.1->tensorboard<2.9,>=2.8->tensorflow==2.8.4->m3gnet==0.2.4) (2.0.0)\n",
      "Requirement already satisfied: zipp>=3.1.0 in /usr/local/lib/python3.9/dist-packages (from importlib-resources>=3.2.0->matplotlib>=3.1.0->ase->m3gnet==0.2.4) (3.18.1)\n",
      "Requirement already satisfied: importlib-metadata>=4.4 in /usr/local/lib/python3.9/dist-packages (from markdown>=2.6.8->tensorboard<2.9,>=2.8->tensorflow==2.8.4->m3gnet==0.2.4) (7.1.0)\n",
      "Requirement already satisfied: MarkupSafe>=2.1.1 in /usr/local/lib/python3.9/dist-packages (from werkzeug>=0.11.15->tensorboard<2.9,>=2.8->tensorflow==2.8.4->m3gnet==0.2.4) (2.1.5)\n",
      "Requirement already satisfied: pyasn1<0.7.0,>=0.4.6 in /usr/local/lib/python3.9/dist-packages (from pyasn1-modules>=0.2.1->google-auth<3,>=1.6.3->tensorboard<2.9,>=2.8->tensorflow==2.8.4->m3gnet==0.2.4) (0.6.0)\n",
      "Requirement already satisfied: oauthlib>=3.0.0 in /usr/local/lib/python3.9/dist-packages (from requests-oauthlib>=0.7.0->google-auth-oauthlib<0.5,>=0.4.1->tensorboard<2.9,>=2.8->tensorflow==2.8.4->m3gnet==0.2.4) (3.2.2)\n",
      "Building wheels for collected packages: m3gnet\n",
      "  Building editable for m3gnet (pyproject.toml) ... \u001b[?25ldone\n",
      "\u001b[?25h  Created wheel for m3gnet: filename=m3gnet-0.2.4-0.editable-py3-none-any.whl size=11679 sha256=16267d46be0f671797c0a42e1d81d8445a4ddff48c2841c3b5c9154c7557e8c7\n",
      "  Stored in directory: /tmp/pip-ephem-wheel-cache-zgwjny4w/wheels/31/f0/90/a52bc3363ed3e8f1acb521869bba7b63b6f9c100d86db213ee\n",
      "Successfully built m3gnet\n",
      "Installing collected packages: m3gnet\n",
      "  Attempting uninstall: m3gnet\n",
      "    Found existing installation: m3gnet 0.2.4\n",
      "    Uninstalling m3gnet-0.2.4:\n",
      "      Successfully uninstalled m3gnet-0.2.4\n",
      "Successfully installed m3gnet-0.2.4\n",
      "\u001b[33mWARNING: Running pip as the 'root' user can result in broken permissions and conflicting behaviour with the system package manager. It is recommended to use a virtual environment instead: https://pip.pypa.io/warnings/venv\u001b[0m\u001b[33m\n",
      "\u001b[0m"
     ]
    }
   ],
   "source": [
    "!pip install -e ../../scripts/m3gnet/pretrained_m3gnet/m3gnet_each_atom_vector"
   ]
  },
  {
   "cell_type": "code",
   "execution_count": 1,
   "id": "3b8a6786-f59a-43a9-833c-10d171689ae6",
   "metadata": {},
   "outputs": [],
   "source": [
    "# !pip list"
   ]
  },
  {
   "cell_type": "markdown",
   "id": "1f55759d-599f-49c0-be71-d5e64666731e",
   "metadata": {},
   "source": [
    "## Then restart kernel."
   ]
  },
  {
   "cell_type": "markdown",
   "id": "d0a86514-5597-463c-a88d-3ba80216fde5",
   "metadata": {},
   "source": [
    "## Generating M3GNet Descriptor"
   ]
  },
  {
   "cell_type": "markdown",
   "id": "dec902a6-c025-447c-a4f2-0ba1597ded98",
   "metadata": {},
   "source": [
    "For example, we will see nicotine molecule's generator."
   ]
  },
  {
   "cell_type": "code",
   "execution_count": 2,
   "id": "d8da4df1-83ac-4cd0-816d-fdd22d57c109",
   "metadata": {},
   "outputs": [],
   "source": [
    "from m3gnet.models import M3GNet, M3GNetCalculator, Potential"
   ]
  },
  {
   "cell_type": "code",
   "execution_count": 3,
   "id": "ca709b7e-7ad5-450c-92c7-d1644af61b22",
   "metadata": {},
   "outputs": [
    {
     "name": "stderr",
     "output_type": "stream",
     "text": [
      "2024-03-28 07:23:58.688042: W tensorflow/stream_executor/platform/default/dso_loader.cc:64] Could not load dynamic library 'libcuda.so.1'; dlerror: libcuda.so.1: cannot open shared object file: No such file or directory\n",
      "2024-03-28 07:23:58.688135: W tensorflow/stream_executor/cuda/cuda_driver.cc:269] failed call to cuInit: UNKNOWN ERROR (303)\n",
      "2024-03-28 07:23:58.688152: I tensorflow/stream_executor/cuda/cuda_diagnostics.cc:156] kernel driver does not appear to be running on this host (a654f602953a): /proc/driver/nvidia/version does not exist\n",
      "2024-03-28 07:23:58.692224: I tensorflow/core/platform/cpu_feature_guard.cc:151] This TensorFlow binary is optimized with oneAPI Deep Neural Network Library (oneDNN) to use the following CPU instructions in performance-critical operations:  AVX2 FMA\n",
      "To enable them in other operations, rebuild TensorFlow with the appropriate compiler flags.\n"
     ]
    }
   ],
   "source": [
    "# Loading Pretrained model\n",
    "potential = Potential(M3GNet.load())\n",
    "calculator = M3GNetCalculator(potential=potential, stress_weight=0.01)"
   ]
  },
  {
   "cell_type": "code",
   "execution_count": 4,
   "id": "51eb95da-2bb3-4081-bae5-7710bf883985",
   "metadata": {},
   "outputs": [],
   "source": [
    "from pymatgen.io.ase import AseAtomsAdaptor\n",
    "from pymatgen.io.xyz import XYZ"
   ]
  },
  {
   "cell_type": "code",
   "execution_count": 5,
   "id": "7d99a442-f76f-48c6-aea6-e23450c852db",
   "metadata": {},
   "outputs": [],
   "source": [
    "xyz = XYZ.from_file('../../data/NMR/sample_structure/nicotine.xyz')\n",
    "nicotine = AseAtomsAdaptor.get_atoms(xyz.all_molecules[0])"
   ]
  },
  {
   "cell_type": "markdown",
   "id": "a65f7925-cd0c-4f70-a0a6-ec39ff2812e6",
   "metadata": {},
   "source": [
    "## visualize"
   ]
  },
  {
   "cell_type": "code",
   "execution_count": 6,
   "id": "f2c12afe-401a-40b7-89c5-7e9f0716c1a7",
   "metadata": {},
   "outputs": [
    {
     "data": {
      "application/vnd.jupyter.widget-view+json": {
       "model_id": "5583e335449d47b6b94db49d662123a6",
       "version_major": 2,
       "version_minor": 0
      },
      "text/plain": []
     },
     "metadata": {},
     "output_type": "display_data"
    },
    {
     "data": {
      "application/vnd.jupyter.widget-view+json": {
       "model_id": "234102fcc4b54cf988bf00290c313fee",
       "version_major": 2,
       "version_minor": 0
      },
      "text/plain": [
       "HBox(children=(NGLWidget(), VBox(children=(Dropdown(description='Show', options=('All', 'H', 'C', 'N'), value=…"
      ]
     },
     "execution_count": 6,
     "metadata": {},
     "output_type": "execute_result"
    }
   ],
   "source": [
    "from ase.visualize import view\n",
    "view(nicotine, viewer=\"ngl\")"
   ]
  },
  {
   "cell_type": "markdown",
   "id": "13340b57-17f6-4624-bb10-f81a890c85fb",
   "metadata": {},
   "source": [
    "## Generating m3gnet descritptor"
   ]
  },
  {
   "cell_type": "markdown",
   "id": "f86ec9b3-f07d-42ae-a4fe-84dcd8a25aec",
   "metadata": {},
   "source": [
    "By executing the \"get_potential_energy\" method, we can get m3gnet descriptor in the cwd. The file name is \"each_atom_descriptor.csv\""
   ]
  },
  {
   "cell_type": "code",
   "execution_count": 7,
   "id": "96cc983a-50ca-4bff-820b-9d66f0435e15",
   "metadata": {},
   "outputs": [
    {
     "data": {
      "text/plain": [
       "-157.98018"
      ]
     },
     "execution_count": 7,
     "metadata": {},
     "output_type": "execute_result"
    }
   ],
   "source": [
    "nicotine.set_calculator(calculator)\n",
    "nicotine.get_potential_energy()"
   ]
  },
  {
   "cell_type": "markdown",
   "id": "cbfb2254-c8a0-44ed-bac6-28b25ad1c425",
   "metadata": {},
   "source": [
    "Now, we get \"each_atom_descriptor.csv\", in which there are 64 dimentions m3gnet descriptor vectors in each atom."
   ]
  }
 ],
 "metadata": {
  "kernelspec": {
   "display_name": "Python 3 (ipykernel)",
   "language": "python",
   "name": "python3"
  },
  "language_info": {
   "codemirror_mode": {
    "name": "ipython",
    "version": 3
   },
   "file_extension": ".py",
   "mimetype": "text/x-python",
   "name": "python",
   "nbconvert_exporter": "python",
   "pygments_lexer": "ipython3",
   "version": "3.9.5"
  }
 },
 "nbformat": 4,
 "nbformat_minor": 5
}
